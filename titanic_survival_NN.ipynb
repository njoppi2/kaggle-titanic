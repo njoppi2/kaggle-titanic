{
 "cells": [
  {
   "cell_type": "code",
   "execution_count": 13,
   "metadata": {},
   "outputs": [],
   "source": [
    "import pandas as pd\n",
    "import pandas as pd\n",
    "import seaborn as sns\n",
    "import math\n",
    "import re\n",
    "import warnings\n",
    "import missingno as msno\n",
    "import os\n",
    "from sklearn.impute import SimpleImputer, KNNImputer\n",
    "from sklearn.preprocessing import MinMaxScaler, StandardScaler, LabelEncoder, OneHotEncoder\n",
    "from sklearn.linear_model import LogisticRegression\n",
    "from sklearn.model_selection import train_test_split\n",
    "from sklearn.metrics import confusion_matrix, ConfusionMatrixDisplay\n",
    "import tensorflow as tf\n",
    "from tensorflow import keras\n",
    "pd.set_option('display.max_rows', 20)\n",
    "warnings.filterwarnings(\"ignore\")"
   ]
  },
  {
   "attachments": {},
   "cell_type": "markdown",
   "metadata": {},
   "source": [
    "# 1) Get data"
   ]
  },
  {
   "cell_type": "code",
   "execution_count": 14,
   "metadata": {},
   "outputs": [
    {
     "name": "stdout",
     "output_type": "stream",
     "text": [
      "Train data imported successfully!!\n",
      "--------------------------------------------------\n",
      "Test data imported successfully!!\n"
     ]
    }
   ],
   "source": [
    "def read_data():\n",
    "    train_data = pd.read_csv(\"./data/train.csv\")\n",
    "    print(\"Train data imported successfully!!\")\n",
    "    print(\"-\"*50)\n",
    "    test_data = pd.read_csv(\"./data/test.csv\")\n",
    "    print(\"Test data imported successfully!!\")\n",
    "    return train_data , test_data\n",
    "\n",
    "raw_train_data , raw_test_data = read_data()"
   ]
  },
  {
   "attachments": {},
   "cell_type": "markdown",
   "metadata": {},
   "source": [
    "# 2) Exploratory data analysis & preprocessing:"
   ]
  },
  {
   "cell_type": "code",
   "execution_count": 15,
   "metadata": {},
   "outputs": [
    {
     "data": {
      "text/html": [
       "<div>\n",
       "<style scoped>\n",
       "    .dataframe tbody tr th:only-of-type {\n",
       "        vertical-align: middle;\n",
       "    }\n",
       "\n",
       "    .dataframe tbody tr th {\n",
       "        vertical-align: top;\n",
       "    }\n",
       "\n",
       "    .dataframe thead th {\n",
       "        text-align: right;\n",
       "    }\n",
       "</style>\n",
       "<table border=\"1\" class=\"dataframe\">\n",
       "  <thead>\n",
       "    <tr style=\"text-align: right;\">\n",
       "      <th></th>\n",
       "      <th>PassengerId</th>\n",
       "      <th>Survived</th>\n",
       "      <th>Pclass</th>\n",
       "      <th>Name</th>\n",
       "      <th>Sex</th>\n",
       "      <th>Age</th>\n",
       "      <th>SibSp</th>\n",
       "      <th>Parch</th>\n",
       "      <th>Ticket</th>\n",
       "      <th>Fare</th>\n",
       "      <th>Cabin</th>\n",
       "      <th>Embarked</th>\n",
       "    </tr>\n",
       "  </thead>\n",
       "  <tbody>\n",
       "    <tr>\n",
       "      <th>0</th>\n",
       "      <td>1</td>\n",
       "      <td>0</td>\n",
       "      <td>3</td>\n",
       "      <td>Braund, Mr. Owen Harris</td>\n",
       "      <td>male</td>\n",
       "      <td>22.0</td>\n",
       "      <td>1</td>\n",
       "      <td>0</td>\n",
       "      <td>A/5 21171</td>\n",
       "      <td>7.2500</td>\n",
       "      <td>NaN</td>\n",
       "      <td>S</td>\n",
       "    </tr>\n",
       "    <tr>\n",
       "      <th>1</th>\n",
       "      <td>2</td>\n",
       "      <td>1</td>\n",
       "      <td>1</td>\n",
       "      <td>Cumings, Mrs. John Bradley (Florence Briggs Th...</td>\n",
       "      <td>female</td>\n",
       "      <td>38.0</td>\n",
       "      <td>1</td>\n",
       "      <td>0</td>\n",
       "      <td>PC 17599</td>\n",
       "      <td>71.2833</td>\n",
       "      <td>C85</td>\n",
       "      <td>C</td>\n",
       "    </tr>\n",
       "    <tr>\n",
       "      <th>2</th>\n",
       "      <td>3</td>\n",
       "      <td>1</td>\n",
       "      <td>3</td>\n",
       "      <td>Heikkinen, Miss. Laina</td>\n",
       "      <td>female</td>\n",
       "      <td>26.0</td>\n",
       "      <td>0</td>\n",
       "      <td>0</td>\n",
       "      <td>STON/O2. 3101282</td>\n",
       "      <td>7.9250</td>\n",
       "      <td>NaN</td>\n",
       "      <td>S</td>\n",
       "    </tr>\n",
       "    <tr>\n",
       "      <th>3</th>\n",
       "      <td>4</td>\n",
       "      <td>1</td>\n",
       "      <td>1</td>\n",
       "      <td>Futrelle, Mrs. Jacques Heath (Lily May Peel)</td>\n",
       "      <td>female</td>\n",
       "      <td>35.0</td>\n",
       "      <td>1</td>\n",
       "      <td>0</td>\n",
       "      <td>113803</td>\n",
       "      <td>53.1000</td>\n",
       "      <td>C123</td>\n",
       "      <td>S</td>\n",
       "    </tr>\n",
       "    <tr>\n",
       "      <th>4</th>\n",
       "      <td>5</td>\n",
       "      <td>0</td>\n",
       "      <td>3</td>\n",
       "      <td>Allen, Mr. William Henry</td>\n",
       "      <td>male</td>\n",
       "      <td>35.0</td>\n",
       "      <td>0</td>\n",
       "      <td>0</td>\n",
       "      <td>373450</td>\n",
       "      <td>8.0500</td>\n",
       "      <td>NaN</td>\n",
       "      <td>S</td>\n",
       "    </tr>\n",
       "  </tbody>\n",
       "</table>\n",
       "</div>"
      ],
      "text/plain": [
       "   PassengerId  Survived  Pclass  \\\n",
       "0            1         0       3   \n",
       "1            2         1       1   \n",
       "2            3         1       3   \n",
       "3            4         1       1   \n",
       "4            5         0       3   \n",
       "\n",
       "                                                Name     Sex   Age  SibSp  \\\n",
       "0                            Braund, Mr. Owen Harris    male  22.0      1   \n",
       "1  Cumings, Mrs. John Bradley (Florence Briggs Th...  female  38.0      1   \n",
       "2                             Heikkinen, Miss. Laina  female  26.0      0   \n",
       "3       Futrelle, Mrs. Jacques Heath (Lily May Peel)  female  35.0      1   \n",
       "4                           Allen, Mr. William Henry    male  35.0      0   \n",
       "\n",
       "   Parch            Ticket     Fare Cabin Embarked  \n",
       "0      0         A/5 21171   7.2500   NaN        S  \n",
       "1      0          PC 17599  71.2833   C85        C  \n",
       "2      0  STON/O2. 3101282   7.9250   NaN        S  \n",
       "3      0            113803  53.1000  C123        S  \n",
       "4      0            373450   8.0500   NaN        S  "
      ]
     },
     "execution_count": 15,
     "metadata": {},
     "output_type": "execute_result"
    }
   ],
   "source": [
    "raw_train_data.head()"
   ]
  },
  {
   "cell_type": "code",
   "execution_count": 16,
   "metadata": {},
   "outputs": [
    {
     "data": {
      "text/html": [
       "<div>\n",
       "<style scoped>\n",
       "    .dataframe tbody tr th:only-of-type {\n",
       "        vertical-align: middle;\n",
       "    }\n",
       "\n",
       "    .dataframe tbody tr th {\n",
       "        vertical-align: top;\n",
       "    }\n",
       "\n",
       "    .dataframe thead th {\n",
       "        text-align: right;\n",
       "    }\n",
       "</style>\n",
       "<table border=\"1\" class=\"dataframe\">\n",
       "  <thead>\n",
       "    <tr style=\"text-align: right;\">\n",
       "      <th></th>\n",
       "      <th>PassengerId</th>\n",
       "      <th>Pclass</th>\n",
       "      <th>Name</th>\n",
       "      <th>Sex</th>\n",
       "      <th>Age</th>\n",
       "      <th>SibSp</th>\n",
       "      <th>Parch</th>\n",
       "      <th>Ticket</th>\n",
       "      <th>Fare</th>\n",
       "      <th>Cabin</th>\n",
       "      <th>Embarked</th>\n",
       "    </tr>\n",
       "  </thead>\n",
       "  <tbody>\n",
       "    <tr>\n",
       "      <th>0</th>\n",
       "      <td>892</td>\n",
       "      <td>3</td>\n",
       "      <td>Kelly, Mr. James</td>\n",
       "      <td>male</td>\n",
       "      <td>34.5</td>\n",
       "      <td>0</td>\n",
       "      <td>0</td>\n",
       "      <td>330911</td>\n",
       "      <td>7.8292</td>\n",
       "      <td>NaN</td>\n",
       "      <td>Q</td>\n",
       "    </tr>\n",
       "    <tr>\n",
       "      <th>1</th>\n",
       "      <td>893</td>\n",
       "      <td>3</td>\n",
       "      <td>Wilkes, Mrs. James (Ellen Needs)</td>\n",
       "      <td>female</td>\n",
       "      <td>47.0</td>\n",
       "      <td>1</td>\n",
       "      <td>0</td>\n",
       "      <td>363272</td>\n",
       "      <td>7.0000</td>\n",
       "      <td>NaN</td>\n",
       "      <td>S</td>\n",
       "    </tr>\n",
       "    <tr>\n",
       "      <th>2</th>\n",
       "      <td>894</td>\n",
       "      <td>2</td>\n",
       "      <td>Myles, Mr. Thomas Francis</td>\n",
       "      <td>male</td>\n",
       "      <td>62.0</td>\n",
       "      <td>0</td>\n",
       "      <td>0</td>\n",
       "      <td>240276</td>\n",
       "      <td>9.6875</td>\n",
       "      <td>NaN</td>\n",
       "      <td>Q</td>\n",
       "    </tr>\n",
       "    <tr>\n",
       "      <th>3</th>\n",
       "      <td>895</td>\n",
       "      <td>3</td>\n",
       "      <td>Wirz, Mr. Albert</td>\n",
       "      <td>male</td>\n",
       "      <td>27.0</td>\n",
       "      <td>0</td>\n",
       "      <td>0</td>\n",
       "      <td>315154</td>\n",
       "      <td>8.6625</td>\n",
       "      <td>NaN</td>\n",
       "      <td>S</td>\n",
       "    </tr>\n",
       "    <tr>\n",
       "      <th>4</th>\n",
       "      <td>896</td>\n",
       "      <td>3</td>\n",
       "      <td>Hirvonen, Mrs. Alexander (Helga E Lindqvist)</td>\n",
       "      <td>female</td>\n",
       "      <td>22.0</td>\n",
       "      <td>1</td>\n",
       "      <td>1</td>\n",
       "      <td>3101298</td>\n",
       "      <td>12.2875</td>\n",
       "      <td>NaN</td>\n",
       "      <td>S</td>\n",
       "    </tr>\n",
       "  </tbody>\n",
       "</table>\n",
       "</div>"
      ],
      "text/plain": [
       "   PassengerId  Pclass                                          Name     Sex  \\\n",
       "0          892       3                              Kelly, Mr. James    male   \n",
       "1          893       3              Wilkes, Mrs. James (Ellen Needs)  female   \n",
       "2          894       2                     Myles, Mr. Thomas Francis    male   \n",
       "3          895       3                              Wirz, Mr. Albert    male   \n",
       "4          896       3  Hirvonen, Mrs. Alexander (Helga E Lindqvist)  female   \n",
       "\n",
       "    Age  SibSp  Parch   Ticket     Fare Cabin Embarked  \n",
       "0  34.5      0      0   330911   7.8292   NaN        Q  \n",
       "1  47.0      1      0   363272   7.0000   NaN        S  \n",
       "2  62.0      0      0   240276   9.6875   NaN        Q  \n",
       "3  27.0      0      0   315154   8.6625   NaN        S  \n",
       "4  22.0      1      1  3101298  12.2875   NaN        S  "
      ]
     },
     "execution_count": 16,
     "metadata": {},
     "output_type": "execute_result"
    }
   ],
   "source": [
    "raw_test_data.head()"
   ]
  },
  {
   "attachments": {},
   "cell_type": "markdown",
   "metadata": {},
   "source": [
    "## 2.1) Feature Engineering"
   ]
  },
  {
   "attachments": {},
   "cell_type": "markdown",
   "metadata": {},
   "source": [
    "Binary encode gender (male & female → 1 & 0)"
   ]
  },
  {
   "cell_type": "code",
   "execution_count": 17,
   "metadata": {},
   "outputs": [],
   "source": [
    "# merging train and test data into one big dataframe\n",
    "raw_all_data = pd.concat([raw_train_data , raw_test_data])\n",
    "\n",
    "all_data_gender_binary_encoded = raw_all_data.copy()\n",
    "all_data_gender_binary_encoded['Sex'] = raw_all_data['Sex'].replace({'male': 1, 'female': 0})"
   ]
  },
  {
   "attachments": {},
   "cell_type": "markdown",
   "metadata": {},
   "source": [
    "### 2.1.1) Normalizing features"
   ]
  },
  {
   "cell_type": "code",
   "execution_count": 18,
   "metadata": {},
   "outputs": [],
   "source": [
    "# Define scaler to set values to mean 0 and std. dev. = 1\n",
    "scaler = StandardScaler()\n",
    "\n",
    "normalize_columns = [ 'Survived', 'Pclass', 'Sex', 'Age', 'SibSp', 'Parch', 'Fare' ]\n",
    "all_data_normalized = pd.DataFrame(scaler.fit_transform(all_data_gender_binary_encoded[normalize_columns]), columns = normalize_columns)\n",
    "\n",
    "all_data_gender_binary_encoded.reset_index(drop=True, inplace=True)\n",
    "all_data_normalized['Name'] = all_data_gender_binary_encoded['Name']\n",
    "all_data_normalized['Ticket'] = all_data_gender_binary_encoded['Ticket']\n",
    "all_data_normalized['Cabin'] = all_data_gender_binary_encoded['Cabin']\n",
    "all_data_normalized['Embarked'] = all_data_gender_binary_encoded['Embarked']"
   ]
  },
  {
   "attachments": {},
   "cell_type": "markdown",
   "metadata": {},
   "source": [
    "### 2.1.2) Create Titles feature"
   ]
  },
  {
   "cell_type": "code",
   "execution_count": 19,
   "metadata": {},
   "outputs": [],
   "source": [
    "all_data_with_titles = all_data_normalized.copy()\n",
    "\n",
    "name_regex_pattern = \"(.*?)\\,\\s([^.]*)\\.\\s([^(]*)(\\(([^\\\"]*)\\))?\"\n",
    "cabin_regex_pattern = \"^(\\w).*\"\n",
    "\n",
    "def create_titles(name):\n",
    "    actual_title = re.search(name_regex_pattern, name).group(2)\n",
    "    match actual_title:\n",
    "        case \"Ms\":\n",
    "            return \"Mrs\"\n",
    "        case \"Mlle\":\n",
    "            return \"Miss\"\n",
    "        case \"Mme\":\n",
    "            return \"Mrs\"\n",
    "        case \"Major\":\n",
    "            return \"Militar\"\n",
    "        case \"Col\":\n",
    "            return \"Militar\"\n",
    "        case \"Capt\":\n",
    "            return \"Militar\"\n",
    "        case \"the Countess\":\n",
    "            return \"Noble\"\n",
    "        case \"Lady\":\n",
    "            return \"Noble\"\n",
    "        case \"Sir\":\n",
    "            return \"Noble\"\n",
    "        case \"Don\":\n",
    "            return \"Noble\"\n",
    "        case \"Dona\":\n",
    "            return \"Noble\"\n",
    "        case \"Jonkheer\":\n",
    "            return \"Noble\"\n",
    "        case _:\n",
    "            return actual_title\n",
    "\n",
    "# Extract the titles from the names column\n",
    "all_data_with_titles['Titles'] = all_data_with_titles['Name'].apply(create_titles)"
   ]
  },
  {
   "cell_type": "code",
   "execution_count": 20,
   "metadata": {},
   "outputs": [
    {
     "name": "stdout",
     "output_type": "stream",
     "text": [
      "Mr         757\n",
      "Miss       262\n",
      "Mrs        200\n",
      "Master      61\n",
      "Rev          8\n",
      "Dr           8\n",
      "Militar      7\n",
      "Noble        6\n",
      "Name: Titles, dtype: int64\n"
     ]
    }
   ],
   "source": [
    "print(all_data_with_titles['Titles'].value_counts())\n",
    "\n",
    "# One-hot encode the \"Titles\" column\n",
    "all_data_with_titles_one_hot_encoded = pd.get_dummies(all_data_with_titles, columns=['Titles'])"
   ]
  },
  {
   "attachments": {},
   "cell_type": "markdown",
   "metadata": {},
   "source": [
    "## 2.2) Discovering & Imputing null data"
   ]
  },
  {
   "cell_type": "code",
   "execution_count": 21,
   "metadata": {},
   "outputs": [
    {
     "name": "stdout",
     "output_type": "stream",
     "text": [
      "PassengerId     0.000000\n",
      "Survived       31.932773\n",
      "Pclass          0.000000\n",
      "Name            0.000000\n",
      "Sex             0.000000\n",
      "Age            20.091673\n",
      "SibSp           0.000000\n",
      "Parch           0.000000\n",
      "Ticket          0.000000\n",
      "Fare            0.076394\n",
      "Cabin          77.463713\n",
      "Embarked        0.152788\n",
      "dtype: float64\n"
     ]
    },
    {
     "data": {
      "text/plain": [
       "<AxesSubplot:>"
      ]
     },
     "execution_count": 21,
     "metadata": {},
     "output_type": "execute_result"
    },
    {
     "data": {
      "image/png": "[encoded data removed]",
      "text/plain": [
       "<Figure size 1800x720 with 2 Axes>"
      ]
     },
     "metadata": {
      "needs_background": "light"
     },
     "output_type": "display_data"
    }
   ],
   "source": [
    "print(raw_all_data.isnull().mean()*100)\n",
    "\n",
    "msno.matrix(raw_all_data)"
   ]
  },
  {
   "attachments": {},
   "cell_type": "markdown",
   "metadata": {},
   "source": [
    "### 2.2.1) Impute Embarked (manually)"
   ]
  },
  {
   "attachments": {},
   "cell_type": "markdown",
   "metadata": {},
   "source": [
    "Embarked is a categorial feature (\"Q\", \"S\", \"C\") with two missing values, so we can't really use it (as far as i know) on KNN, like we did below with Fare, so we're just going to do a simple approach and impute it with the most common value it has. "
   ]
  },
  {
   "cell_type": "code",
   "execution_count": 22,
   "metadata": {},
   "outputs": [
    {
     "name": "stdout",
     "output_type": "stream",
     "text": [
      "S    914\n",
      "C    270\n",
      "Q    123\n",
      "Name: Embarked, dtype: int64\n"
     ]
    },
    {
     "data": {
      "image/png": "[encoded data removed]",
      "text/plain": [
       "<Figure size 432x288 with 1 Axes>"
      ]
     },
     "metadata": {
      "needs_background": "light"
     },
     "output_type": "display_data"
    }
   ],
   "source": [
    "import matplotlib.pyplot as plt\n",
    "\n",
    "def survived_bar_plot(feature):\n",
    "    plt.figure(figsize = (6,4))\n",
    "    sns.barplot(data = all_data_with_titles_one_hot_encoded , x = feature , y = \"Survived\").set_title(f\"{feature} Vs Survived\")\n",
    "    plt.show()\n",
    "\n",
    "print(all_data_with_titles_one_hot_encoded['Embarked'].value_counts())\n",
    "survived_bar_plot(\"Embarked\")\n"
   ]
  },
  {
   "cell_type": "code",
   "execution_count": 23,
   "metadata": {},
   "outputs": [
    {
     "data": {
      "text/plain": [
       "False"
      ]
     },
     "execution_count": 23,
     "metadata": {},
     "output_type": "execute_result"
    }
   ],
   "source": [
    "all_data_with_embarked_imputed = all_data_with_titles_one_hot_encoded.copy()\n",
    "all_data_with_embarked_imputed[\"Embarked\"] = all_data_with_embarked_imputed['Embarked'].fillna('S')\n",
    "all_data_with_embarked_imputed[\"Embarked\"].isnull().any()"
   ]
  },
  {
   "attachments": {},
   "cell_type": "markdown",
   "metadata": {},
   "source": [
    "### 2.2.2) Impute Fare (with KNN)"
   ]
  },
  {
   "cell_type": "code",
   "execution_count": 24,
   "metadata": {},
   "outputs": [
    {
     "name": "stdout",
     "output_type": "stream",
     "text": [
      "Index(['Survived', 'Pclass', 'Sex', 'Age', 'SibSp', 'Parch', 'Fare', 'Name',\n",
      "       'Ticket', 'Cabin', 'Titles_Dr', 'Titles_Master', 'Titles_Militar',\n",
      "       'Titles_Miss', 'Titles_Mr', 'Titles_Mrs', 'Titles_Noble', 'Titles_Rev',\n",
      "       'Embarked_C', 'Embarked_Q', 'Embarked_S'],\n",
      "      dtype='object')\n"
     ]
    }
   ],
   "source": [
    "#One-hot encoding Embarked\n",
    "all_data_with_embarked_one_hot_encoded = pd.get_dummies(all_data_with_embarked_imputed, columns=['Embarked'])\n",
    "print(all_data_with_embarked_one_hot_encoded.columns)"
   ]
  },
  {
   "cell_type": "code",
   "execution_count": 25,
   "metadata": {},
   "outputs": [
    {
     "data": {
      "text/plain": [
       "False"
      ]
     },
     "execution_count": 25,
     "metadata": {},
     "output_type": "execute_result"
    }
   ],
   "source": [
    "all_data_with_fare_imputed = all_data_with_embarked_one_hot_encoded.copy()\n",
    "# Define the features and target variables\n",
    "features = ['Fare', 'SibSp', 'Parch', 'Pclass', 'Titles_Militar', 'Titles_Dr', 'Titles_Noble',\n",
    "            'Titles_Master', 'Titles_Miss', 'Titles_Mr', 'Titles_Mrs', 'Titles_Rev', 'Embarked_C',\n",
    "            'Embarked_Q', 'Embarked_S']\n",
    "\n",
    "#Define a subset of the dataset (text features don't work with KNN)\n",
    "data_knn = all_data_with_fare_imputed.filter(features, axis=1).copy()\n",
    "knn_imputer = KNNImputer(n_neighbors=5, weights='uniform', metric='nan_euclidean')\n",
    "\n",
    "# Define KNN imputer and fill missing values\n",
    "tdx_knn_imputed = pd.DataFrame(knn_imputer.fit_transform(data_knn), columns=data_knn.columns)\n",
    "\n",
    "all_data_with_fare_imputed['Fare'] = tdx_knn_imputed['Fare']\n",
    "all_data_with_fare_imputed[\"Fare\"].isnull().any()"
   ]
  },
  {
   "attachments": {},
   "cell_type": "markdown",
   "metadata": {},
   "source": [
    "### 2.2.3) Impute Age (with random forest regressor)"
   ]
  },
  {
   "cell_type": "code",
   "execution_count": 26,
   "metadata": {},
   "outputs": [
    {
     "data": {
      "image/png": "[encoded data removed]",
      "text/plain": [
       "<Figure size 432x288 with 1 Axes>"
      ]
     },
     "metadata": {
      "needs_background": "light"
     },
     "output_type": "display_data"
    }
   ],
   "source": [
    "#Define a subset of the dataset (text features don't work with KNN)\n",
    "from sklearn.ensemble import RandomForestRegressor\n",
    "import numpy as np\n",
    "\n",
    "all_data_with_age_imputed = all_data_with_fare_imputed.copy()\n",
    "# data_knn = all_data.filter(['Fare','Age','SibSp','Parch', 'Pclass', 'Titles'], axis=1).copy()\n",
    "# knn_imputer = KNNImputer(n_neighbors=5, weights='uniform', metric='nan_euclidean')\n",
    "\n",
    "# Define scaler to set values between 0 and 1\n",
    "scaler = StandardScaler()\n",
    "\n",
    "# Split the data into training and test sets\n",
    "train_age_imputation_data = all_data_with_age_imputed[~all_data_with_age_imputed['Age'].isnull()]\n",
    "test_age_imputation_data = all_data_with_age_imputed[all_data_with_age_imputed['Age'].isnull()]\n",
    "\n",
    "# Define the features and target variables\n",
    "features = ['Fare', 'SibSp', 'Parch', 'Pclass', 'Titles_Militar', 'Titles_Dr', 'Titles_Noble',\n",
    "            'Titles_Master', 'Titles_Miss', 'Titles_Mr', 'Titles_Mrs', 'Titles_Rev', 'Embarked_C',\n",
    "            'Embarked_Q', 'Embarked_S']\n",
    "target = 'Age'\n",
    "\n",
    "# Create a RandomForestRegressor model\n",
    "model = RandomForestRegressor(n_estimators=100, random_state=42)\n",
    "\n",
    "# Train the model on the training data\n",
    "model.fit(train_age_imputation_data[features], train_age_imputation_data[target])\n",
    "\n",
    "data_imputed = test_age_imputation_data.copy()\n",
    "# Use the model to predict missing Age values in the test set\n",
    "predicted_ages = model.predict(test_age_imputation_data[features])\n",
    "\n",
    "# Fill in the missing Age values with the predicted values\n",
    "all_data_with_age_imputed.loc[all_data_with_age_imputed['Age'].isnull(), 'Age'] = predicted_ages\n",
    "\n",
    "\n",
    "# Plot the old ages in blue\n",
    "plt.scatter(train_age_imputation_data['Parch'], train_age_imputation_data['Age'], color='blue')\n",
    "\n",
    "# Plot the newly imputed ages in red\n",
    "plt.scatter(test_age_imputation_data['Parch'], predicted_ages, color='red')\n",
    "\n",
    "# Add axis labels and a title\n",
    "plt.xlabel('Parch')\n",
    "plt.ylabel('Age')\n",
    "plt.title('Old and Imputed Ages')\n",
    "\n",
    "# Show the plot\n",
    "plt.show()\n"
   ]
  },
  {
   "cell_type": "code",
   "execution_count": 27,
   "metadata": {},
   "outputs": [
    {
     "data": {
      "text/plain": [
       "False"
      ]
     },
     "execution_count": 27,
     "metadata": {},
     "output_type": "execute_result"
    }
   ],
   "source": [
    "all_data_with_age_imputed[\"Age\"].isnull().any()"
   ]
  },
  {
   "attachments": {},
   "cell_type": "markdown",
   "metadata": {},
   "source": [
    "## 2.3) Feature selection (Dropping useless columns)"
   ]
  },
  {
   "cell_type": "code",
   "execution_count": 28,
   "metadata": {},
   "outputs": [
    {
     "name": "stdout",
     "output_type": "stream",
     "text": [
      "Index(['Survived', 'Pclass', 'Sex', 'Age', 'SibSp', 'Parch', 'Fare',\n",
      "       'Titles_Dr', 'Titles_Master', 'Titles_Militar', 'Titles_Miss',\n",
      "       'Titles_Mr', 'Titles_Mrs', 'Titles_Noble', 'Titles_Rev', 'Embarked_C',\n",
      "       'Embarked_Q', 'Embarked_S'],\n",
      "      dtype='object')\n"
     ]
    }
   ],
   "source": [
    "all_data_processed = all_data_with_age_imputed.copy()\n",
    "all_data_processed.drop(['Cabin', 'Name', 'Ticket'], axis=1, inplace=True)\n",
    "print(all_data_processed.columns)"
   ]
  },
  {
   "attachments": {},
   "cell_type": "markdown",
   "metadata": {},
   "source": [
    "## 2.4) Split data for training"
   ]
  },
  {
   "cell_type": "code",
   "execution_count": 29,
   "metadata": {},
   "outputs": [
    {
     "name": "stdout",
     "output_type": "stream",
     "text": [
      "(891, 17)\n",
      "(891,)\n",
      "<class 'pandas.core.series.Series'>\n",
      "Int64Index: 712 entries, 534 to 635\n",
      "Series name: Survived\n",
      "Non-Null Count  Dtype\n",
      "--------------  -----\n",
      "712 non-null    int64\n",
      "dtypes: int64(1)\n",
      "memory usage: 11.1 KB\n"
     ]
    }
   ],
   "source": [
    "train_data_processed = all_data_processed[all_data_processed['Survived'].notnull()]\n",
    "\n",
    "X = train_data_processed.iloc[:, 1:]\n",
    "y = train_data_processed.iloc[:, 0].astype(int)\n",
    "\n",
    "X_train, X_cv, y_train, y_cv = train_test_split(X, y, test_size=0.2)\n",
    "\n",
    "X_test = all_data_processed[all_data_processed['Survived'].isnull()]\n",
    "X_test.drop(['Survived'], axis=1, inplace=True)\n",
    "\n",
    "print(X.shape)\n",
    "print(y.shape)\n",
    "assert((X.columns == X_test.columns).all())\n",
    "\n",
    "X_test.head()\n",
    "y_train.info()"
   ]
  },
  {
   "attachments": {},
   "cell_type": "markdown",
   "metadata": {},
   "source": [
    "# 3) Use predictive model"
   ]
  },
  {
   "attachments": {},
   "cell_type": "markdown",
   "metadata": {},
   "source": [
    "## 3.1) Create the model"
   ]
  },
  {
   "cell_type": "code",
   "execution_count": 30,
   "metadata": {},
   "outputs": [
    {
     "name": "stdout",
     "output_type": "stream",
     "text": [
      "Model: \"sequential_4\"\n",
      "_________________________________________________________________\n",
      " Layer (type)                Output Shape              Param #   \n",
      "=================================================================\n",
      " dense_8 (Dense)             (None, 30)                540       \n",
      "                                                                 \n",
      " dropout_4 (Dropout)         (None, 30)                0         \n",
      "                                                                 \n",
      " dense_9 (Dense)             (None, 1)                 31        \n",
      "                                                                 \n",
      "=================================================================\n",
      "Total params: 571\n",
      "Trainable params: 571\n",
      "Non-trainable params: 0\n",
      "_________________________________________________________________\n",
      "None\n"
     ]
    }
   ],
   "source": [
    "# Create neural network\n",
    "\n",
    "input_shape = (17,)\n",
    "num_classes = 1\n",
    "model = keras.Sequential(\n",
    "    [\n",
    "        keras.Input(shape=input_shape),\n",
    "        # keras.layers.Dropout(0.1),\n",
    "        keras.layers.Dense(30, activation=\"relu\", activity_regularizer=keras.regularizers.l2(0.1)),\n",
    "        keras.layers.Dropout(0.4),\n",
    "        keras.layers.Dense(num_classes, activation=\"sigmoid\"),\n",
    "    ]\n",
    ")\n",
    "\n",
    "learning_rate = 0.005\n",
    "# opt = keras.optimizers.SGD(learning_rate=learning_rate)\n",
    "opt = keras.optimizers.Adam(learning_rate=learning_rate)\n",
    "\n",
    "# Compile the model.\n",
    "model.compile(\n",
    "  optimizer=opt,\n",
    "  loss='binary_crossentropy',\n",
    "  metrics=['accuracy'],\n",
    ")\n",
    "print(model.summary())"
   ]
  },
  {
   "attachments": {},
   "cell_type": "markdown",
   "metadata": {},
   "source": [
    "## 3.2) Train model"
   ]
  },
  {
   "cell_type": "code",
   "execution_count": 31,
   "metadata": {},
   "outputs": [
    {
     "name": "stdout",
     "output_type": "stream",
     "text": [
      "Epoch 1/200\n"
     ]
    },
    {
     "name": "stdout",
     "output_type": "stream",
     "text": [
      "3/3 [==============================] - 2s 179ms/step - loss: 1.2562 - accuracy: 0.3975 - val_loss: 1.1387 - val_accuracy: 0.4413 - lr: 0.0050\n",
      "Epoch 2/200\n",
      "3/3 [==============================] - 0s 27ms/step - loss: 1.0980 - accuracy: 0.5070 - val_loss: 1.0156 - val_accuracy: 0.6648 - lr: 0.0050\n",
      "Epoch 3/200\n",
      "3/3 [==============================] - 0s 19ms/step - loss: 0.9768 - accuracy: 0.6124 - val_loss: 0.9170 - val_accuracy: 0.7374 - lr: 0.0050\n",
      "Epoch 4/200\n",
      "3/3 [==============================] - 0s 31ms/step - loss: 0.8903 - accuracy: 0.6742 - val_loss: 0.8396 - val_accuracy: 0.7821 - lr: 0.0050\n",
      "Epoch 5/200\n",
      "3/3 [==============================] - 0s 29ms/step - loss: 0.8118 - accuracy: 0.7233 - val_loss: 0.7795 - val_accuracy: 0.7765 - lr: 0.0050\n",
      "Epoch 6/200\n",
      "3/3 [==============================] - 0s 24ms/step - loss: 0.7630 - accuracy: 0.7556 - val_loss: 0.7329 - val_accuracy: 0.7989 - lr: 0.0050\n",
      "Epoch 7/200\n",
      "3/3 [==============================] - 0s 27ms/step - loss: 0.7257 - accuracy: 0.7570 - val_loss: 0.6963 - val_accuracy: 0.8268 - lr: 0.0050\n",
      "Epoch 8/200\n",
      "3/3 [==============================] - 0s 40ms/step - loss: 0.6928 - accuracy: 0.7767 - val_loss: 0.6683 - val_accuracy: 0.8268 - lr: 0.0050\n",
      "Epoch 9/200\n",
      "3/3 [==============================] - 0s 112ms/step - loss: 0.6667 - accuracy: 0.7837 - val_loss: 0.6464 - val_accuracy: 0.8268 - lr: 0.0050\n",
      "Epoch 10/200\n",
      "3/3 [==============================] - 0s 71ms/step - loss: 0.6555 - accuracy: 0.7865 - val_loss: 0.6293 - val_accuracy: 0.8268 - lr: 0.0050\n",
      "Epoch 11/200\n",
      "3/3 [==============================] - 0s 41ms/step - loss: 0.6405 - accuracy: 0.7781 - val_loss: 0.6158 - val_accuracy: 0.8324 - lr: 0.0050\n",
      "Epoch 12/200\n",
      "3/3 [==============================] - 0s 39ms/step - loss: 0.6184 - accuracy: 0.7963 - val_loss: 0.6042 - val_accuracy: 0.8380 - lr: 0.0050\n",
      "Epoch 13/200\n",
      "3/3 [==============================] - 0s 36ms/step - loss: 0.6147 - accuracy: 0.8076 - val_loss: 0.5942 - val_accuracy: 0.8380 - lr: 0.0050\n",
      "Epoch 14/200\n",
      "3/3 [==============================] - 0s 29ms/step - loss: 0.6079 - accuracy: 0.7992 - val_loss: 0.5851 - val_accuracy: 0.8380 - lr: 0.0050\n",
      "Epoch 15/200\n",
      "3/3 [==============================] - 0s 34ms/step - loss: 0.5944 - accuracy: 0.8062 - val_loss: 0.5770 - val_accuracy: 0.8380 - lr: 0.0050\n",
      "Epoch 16/200\n",
      "3/3 [==============================] - 0s 29ms/step - loss: 0.5910 - accuracy: 0.8048 - val_loss: 0.5698 - val_accuracy: 0.8380 - lr: 0.0050\n",
      "Epoch 17/200\n",
      "3/3 [==============================] - 0s 33ms/step - loss: 0.5759 - accuracy: 0.8062 - val_loss: 0.5626 - val_accuracy: 0.8547 - lr: 0.0050\n",
      "Epoch 18/200\n",
      "3/3 [==============================] - 0s 25ms/step - loss: 0.5791 - accuracy: 0.8048 - val_loss: 0.5558 - val_accuracy: 0.8547 - lr: 0.0050\n",
      "Epoch 19/200\n",
      "3/3 [==============================] - 0s 26ms/step - loss: 0.5651 - accuracy: 0.8244 - val_loss: 0.5493 - val_accuracy: 0.8659 - lr: 0.0050\n",
      "Epoch 20/200\n",
      "3/3 [==============================] - 0s 33ms/step - loss: 0.5681 - accuracy: 0.8244 - val_loss: 0.5433 - val_accuracy: 0.8659 - lr: 0.0050\n",
      "Epoch 21/200\n",
      "3/3 [==============================] - 0s 31ms/step - loss: 0.5615 - accuracy: 0.8160 - val_loss: 0.5381 - val_accuracy: 0.8659 - lr: 0.0050\n",
      "Epoch 22/200\n",
      "3/3 [==============================] - 0s 32ms/step - loss: 0.5578 - accuracy: 0.8244 - val_loss: 0.5338 - val_accuracy: 0.8715 - lr: 0.0050\n",
      "Epoch 23/200\n",
      "3/3 [==============================] - 0s 32ms/step - loss: 0.5438 - accuracy: 0.8315 - val_loss: 0.5297 - val_accuracy: 0.8715 - lr: 0.0050\n",
      "Epoch 24/200\n",
      "3/3 [==============================] - 0s 35ms/step - loss: 0.5491 - accuracy: 0.8258 - val_loss: 0.5266 - val_accuracy: 0.8715 - lr: 0.0050\n",
      "Epoch 25/200\n",
      "3/3 [==============================] - 0s 59ms/step - loss: 0.5372 - accuracy: 0.8357 - val_loss: 0.5226 - val_accuracy: 0.8715 - lr: 0.0050\n",
      "Epoch 26/200\n",
      "3/3 [==============================] - 0s 27ms/step - loss: 0.5382 - accuracy: 0.8301 - val_loss: 0.5188 - val_accuracy: 0.8715 - lr: 0.0050\n",
      "Epoch 27/200\n",
      "3/3 [==============================] - 0s 38ms/step - loss: 0.5343 - accuracy: 0.8244 - val_loss: 0.5152 - val_accuracy: 0.8715 - lr: 0.0050\n",
      "Epoch 28/200\n",
      "3/3 [==============================] - 0s 30ms/step - loss: 0.5363 - accuracy: 0.8244 - val_loss: 0.5116 - val_accuracy: 0.8715 - lr: 0.0050\n",
      "Epoch 29/200\n",
      "3/3 [==============================] - 0s 36ms/step - loss: 0.5326 - accuracy: 0.8315 - val_loss: 0.5081 - val_accuracy: 0.8715 - lr: 0.0050\n",
      "Epoch 30/200\n",
      "3/3 [==============================] - 0s 53ms/step - loss: 0.5261 - accuracy: 0.8399 - val_loss: 0.5054 - val_accuracy: 0.8715 - lr: 0.0050\n",
      "Epoch 31/200\n",
      "3/3 [==============================] - 0s 31ms/step - loss: 0.5286 - accuracy: 0.8202 - val_loss: 0.5031 - val_accuracy: 0.8715 - lr: 0.0050\n",
      "Epoch 32/200\n",
      "3/3 [==============================] - 0s 21ms/step - loss: 0.5200 - accuracy: 0.8244 - val_loss: 0.5000 - val_accuracy: 0.8715 - lr: 0.0050\n",
      "Epoch 33/200\n",
      "3/3 [==============================] - 0s 20ms/step - loss: 0.5186 - accuracy: 0.8272 - val_loss: 0.4971 - val_accuracy: 0.8659 - lr: 0.0050\n",
      "Epoch 34/200\n",
      "3/3 [==============================] - 0s 21ms/step - loss: 0.5135 - accuracy: 0.8272 - val_loss: 0.4938 - val_accuracy: 0.8715 - lr: 0.0050\n",
      "Epoch 35/200\n",
      "3/3 [==============================] - 0s 25ms/step - loss: 0.5092 - accuracy: 0.8413 - val_loss: 0.4908 - val_accuracy: 0.8715 - lr: 0.0050\n",
      "Epoch 36/200\n",
      "3/3 [==============================] - 0s 30ms/step - loss: 0.5184 - accuracy: 0.8329 - val_loss: 0.4887 - val_accuracy: 0.8715 - lr: 0.0050\n",
      "Epoch 37/200\n",
      "3/3 [==============================] - 0s 33ms/step - loss: 0.5059 - accuracy: 0.8399 - val_loss: 0.4860 - val_accuracy: 0.8715 - lr: 0.0050\n",
      "Epoch 38/200\n",
      "3/3 [==============================] - 0s 31ms/step - loss: 0.5052 - accuracy: 0.8272 - val_loss: 0.4835 - val_accuracy: 0.8715 - lr: 0.0050\n",
      "Epoch 39/200\n",
      "3/3 [==============================] - 0s 26ms/step - loss: 0.5024 - accuracy: 0.8343 - val_loss: 0.4806 - val_accuracy: 0.8659 - lr: 0.0050\n",
      "Epoch 40/200\n",
      "3/3 [==============================] - 0s 20ms/step - loss: 0.5017 - accuracy: 0.8455 - val_loss: 0.4778 - val_accuracy: 0.8715 - lr: 0.0050\n",
      "Epoch 41/200\n",
      "3/3 [==============================] - 0s 21ms/step - loss: 0.5002 - accuracy: 0.8301 - val_loss: 0.4762 - val_accuracy: 0.8659 - lr: 0.0050\n",
      "Epoch 42/200\n",
      "3/3 [==============================] - 0s 20ms/step - loss: 0.5013 - accuracy: 0.8329 - val_loss: 0.4751 - val_accuracy: 0.8659 - lr: 0.0050\n",
      "Epoch 43/200\n",
      "3/3 [==============================] - 0s 20ms/step - loss: 0.4906 - accuracy: 0.8371 - val_loss: 0.4738 - val_accuracy: 0.8659 - lr: 0.0050\n",
      "Epoch 44/200\n",
      "3/3 [==============================] - 0s 41ms/step - loss: 0.4915 - accuracy: 0.8357 - val_loss: 0.4714 - val_accuracy: 0.8659 - lr: 0.0050\n",
      "Epoch 45/200\n",
      "3/3 [==============================] - 0s 27ms/step - loss: 0.4900 - accuracy: 0.8343 - val_loss: 0.4682 - val_accuracy: 0.8715 - lr: 0.0050\n",
      "Epoch 46/200\n",
      "3/3 [==============================] - 0s 35ms/step - loss: 0.4845 - accuracy: 0.8371 - val_loss: 0.4667 - val_accuracy: 0.8659 - lr: 0.0050\n",
      "Epoch 47/200\n",
      "3/3 [==============================] - 0s 36ms/step - loss: 0.4803 - accuracy: 0.8329 - val_loss: 0.4649 - val_accuracy: 0.8715 - lr: 0.0050\n",
      "Epoch 48/200\n",
      "3/3 [==============================] - 0s 23ms/step - loss: 0.4825 - accuracy: 0.8329 - val_loss: 0.4639 - val_accuracy: 0.8659 - lr: 0.0050\n",
      "Epoch 49/200\n",
      "3/3 [==============================] - 0s 22ms/step - loss: 0.4837 - accuracy: 0.8399 - val_loss: 0.4633 - val_accuracy: 0.8659 - lr: 0.0050\n",
      "Epoch 50/200\n",
      "3/3 [==============================] - 0s 24ms/step - loss: 0.4873 - accuracy: 0.8385 - val_loss: 0.4636 - val_accuracy: 0.8659 - lr: 0.0050\n",
      "Epoch 51/200\n",
      "3/3 [==============================] - 0s 34ms/step - loss: 0.4853 - accuracy: 0.8371 - val_loss: 0.4633 - val_accuracy: 0.8659 - lr: 0.0050\n",
      "Epoch 52/200\n",
      "3/3 [==============================] - 0s 33ms/step - loss: 0.4767 - accuracy: 0.8399 - val_loss: 0.4612 - val_accuracy: 0.8659 - lr: 0.0050\n",
      "Epoch 53/200\n",
      "3/3 [==============================] - 0s 31ms/step - loss: 0.4693 - accuracy: 0.8357 - val_loss: 0.4582 - val_accuracy: 0.8659 - lr: 0.0050\n",
      "Epoch 54/200\n",
      "3/3 [==============================] - 0s 29ms/step - loss: 0.4731 - accuracy: 0.8427 - val_loss: 0.4570 - val_accuracy: 0.8715 - lr: 0.0050\n",
      "Epoch 55/200\n",
      "3/3 [==============================] - 0s 27ms/step - loss: 0.4747 - accuracy: 0.8483 - val_loss: 0.4568 - val_accuracy: 0.8715 - lr: 0.0050\n",
      "Epoch 56/200\n",
      "3/3 [==============================] - 0s 32ms/step - loss: 0.4654 - accuracy: 0.8385 - val_loss: 0.4573 - val_accuracy: 0.8715 - lr: 0.0050\n",
      "Epoch 57/200\n",
      "3/3 [==============================] - 0s 37ms/step - loss: 0.4716 - accuracy: 0.8385 - val_loss: 0.4580 - val_accuracy: 0.8659 - lr: 0.0050\n",
      "Epoch 58/200\n",
      "3/3 [==============================] - 0s 34ms/step - loss: 0.4589 - accuracy: 0.8385 - val_loss: 0.4571 - val_accuracy: 0.8547 - lr: 0.0050\n",
      "Epoch 59/200\n",
      "3/3 [==============================] - 0s 35ms/step - loss: 0.4630 - accuracy: 0.8385 - val_loss: 0.4549 - val_accuracy: 0.8603 - lr: 0.0050\n",
      "Epoch 60/200\n",
      "3/3 [==============================] - 0s 37ms/step - loss: 0.4710 - accuracy: 0.8427 - val_loss: 0.4538 - val_accuracy: 0.8603 - lr: 0.0050\n",
      "Epoch 61/200\n",
      "3/3 [==============================] - 0s 40ms/step - loss: 0.4632 - accuracy: 0.8343 - val_loss: 0.4520 - val_accuracy: 0.8547 - lr: 0.0050\n",
      "Epoch 62/200\n",
      "3/3 [==============================] - 0s 28ms/step - loss: 0.4655 - accuracy: 0.8329 - val_loss: 0.4515 - val_accuracy: 0.8603 - lr: 0.0050\n",
      "Epoch 63/200\n",
      "3/3 [==============================] - 0s 35ms/step - loss: 0.4533 - accuracy: 0.8413 - val_loss: 0.4507 - val_accuracy: 0.8603 - lr: 0.0050\n",
      "Epoch 64/200\n",
      "3/3 [==============================] - 0s 32ms/step - loss: 0.4627 - accuracy: 0.8371 - val_loss: 0.4499 - val_accuracy: 0.8659 - lr: 0.0050\n",
      "Epoch 65/200\n",
      "3/3 [==============================] - 0s 25ms/step - loss: 0.4570 - accuracy: 0.8357 - val_loss: 0.4484 - val_accuracy: 0.8715 - lr: 0.0050\n",
      "Epoch 66/200\n",
      "3/3 [==============================] - 0s 26ms/step - loss: 0.4574 - accuracy: 0.8371 - val_loss: 0.4478 - val_accuracy: 0.8715 - lr: 0.0050\n",
      "Epoch 67/200\n",
      "3/3 [==============================] - 0s 26ms/step - loss: 0.4612 - accuracy: 0.8385 - val_loss: 0.4465 - val_accuracy: 0.8715 - lr: 0.0050\n",
      "Epoch 68/200\n",
      "3/3 [==============================] - 0s 27ms/step - loss: 0.4544 - accuracy: 0.8315 - val_loss: 0.4446 - val_accuracy: 0.8715 - lr: 0.0050\n",
      "Epoch 69/200\n",
      "3/3 [==============================] - 0s 27ms/step - loss: 0.4533 - accuracy: 0.8413 - val_loss: 0.4446 - val_accuracy: 0.8659 - lr: 0.0050\n",
      "Epoch 70/200\n",
      "3/3 [==============================] - 0s 27ms/step - loss: 0.4522 - accuracy: 0.8371 - val_loss: 0.4448 - val_accuracy: 0.8659 - lr: 0.0050\n",
      "Epoch 71/200\n",
      "3/3 [==============================] - 0s 30ms/step - loss: 0.4646 - accuracy: 0.8174 - val_loss: 0.4449 - val_accuracy: 0.8659 - lr: 0.0050\n",
      "Epoch 72/200\n",
      "3/3 [==============================] - 0s 82ms/step - loss: 0.4487 - accuracy: 0.8399 - val_loss: 0.4442 - val_accuracy: 0.8603 - lr: 0.0050\n",
      "Epoch 73/200\n",
      "3/3 [==============================] - 0s 57ms/step - loss: 0.4546 - accuracy: 0.8343 - val_loss: 0.4433 - val_accuracy: 0.8659 - lr: 0.0050\n",
      "Epoch 74/200\n",
      "3/3 [==============================] - 0s 47ms/step - loss: 0.4443 - accuracy: 0.8483 - val_loss: 0.4424 - val_accuracy: 0.8659 - lr: 0.0050\n",
      "Epoch 75/200\n",
      "3/3 [==============================] - 0s 26ms/step - loss: 0.4565 - accuracy: 0.8371 - val_loss: 0.4421 - val_accuracy: 0.8659 - lr: 0.0050\n",
      "Epoch 76/200\n",
      "3/3 [==============================] - 0s 26ms/step - loss: 0.4502 - accuracy: 0.8357 - val_loss: 0.4423 - val_accuracy: 0.8659 - lr: 0.0050\n",
      "Epoch 77/200\n",
      "3/3 [==============================] - 0s 28ms/step - loss: 0.4506 - accuracy: 0.8385 - val_loss: 0.4417 - val_accuracy: 0.8659 - lr: 0.0050\n",
      "Epoch 78/200\n",
      "3/3 [==============================] - 0s 27ms/step - loss: 0.4560 - accuracy: 0.8357 - val_loss: 0.4425 - val_accuracy: 0.8603 - lr: 0.0050\n",
      "Epoch 79/200\n",
      "3/3 [==============================] - 0s 43ms/step - loss: 0.4434 - accuracy: 0.8357 - val_loss: 0.4408 - val_accuracy: 0.8659 - lr: 0.0050\n",
      "Epoch 80/200\n",
      "3/3 [==============================] - 0s 38ms/step - loss: 0.4461 - accuracy: 0.8399 - val_loss: 0.4393 - val_accuracy: 0.8659 - lr: 0.0050\n",
      "Epoch 81/200\n",
      "3/3 [==============================] - 0s 37ms/step - loss: 0.4385 - accuracy: 0.8483 - val_loss: 0.4384 - val_accuracy: 0.8659 - lr: 0.0050\n",
      "Epoch 82/200\n",
      "3/3 [==============================] - 0s 33ms/step - loss: 0.4301 - accuracy: 0.8455 - val_loss: 0.4377 - val_accuracy: 0.8659 - lr: 0.0050\n",
      "Epoch 83/200\n",
      "3/3 [==============================] - 0s 38ms/step - loss: 0.4426 - accuracy: 0.8385 - val_loss: 0.4390 - val_accuracy: 0.8659 - lr: 0.0050\n",
      "Epoch 84/200\n",
      "3/3 [==============================] - 0s 32ms/step - loss: 0.4397 - accuracy: 0.8343 - val_loss: 0.4399 - val_accuracy: 0.8715 - lr: 0.0050\n",
      "Epoch 85/200\n",
      "3/3 [==============================] - 0s 30ms/step - loss: 0.4399 - accuracy: 0.8455 - val_loss: 0.4396 - val_accuracy: 0.8715 - lr: 0.0050\n",
      "Epoch 86/200\n",
      "3/3 [==============================] - 0s 30ms/step - loss: 0.4487 - accuracy: 0.8427 - val_loss: 0.4403 - val_accuracy: 0.8659 - lr: 0.0050\n",
      "Epoch 87/200\n",
      "3/3 [==============================] - 0s 26ms/step - loss: 0.4366 - accuracy: 0.8343 - val_loss: 0.4384 - val_accuracy: 0.8659 - lr: 0.0050\n",
      "Epoch 88/200\n",
      "3/3 [==============================] - 0s 29ms/step - loss: 0.4407 - accuracy: 0.8441 - val_loss: 0.4378 - val_accuracy: 0.8715 - lr: 0.0050\n",
      "Epoch 89/200\n",
      "3/3 [==============================] - 0s 37ms/step - loss: 0.4429 - accuracy: 0.8427 - val_loss: 0.4360 - val_accuracy: 0.8715 - lr: 0.0050\n",
      "Epoch 90/200\n",
      "3/3 [==============================] - 0s 33ms/step - loss: 0.4426 - accuracy: 0.8413 - val_loss: 0.4352 - val_accuracy: 0.8715 - lr: 0.0050\n",
      "Epoch 91/200\n",
      "3/3 [==============================] - 0s 29ms/step - loss: 0.4375 - accuracy: 0.8483 - val_loss: 0.4379 - val_accuracy: 0.8659 - lr: 0.0050\n",
      "Epoch 92/200\n",
      "3/3 [==============================] - 0s 28ms/step - loss: 0.4442 - accuracy: 0.8371 - val_loss: 0.4388 - val_accuracy: 0.8715 - lr: 0.0050\n",
      "Epoch 93/200\n",
      "3/3 [==============================] - 0s 26ms/step - loss: 0.4346 - accuracy: 0.8357 - val_loss: 0.4376 - val_accuracy: 0.8715 - lr: 0.0050\n",
      "Epoch 94/200\n",
      "3/3 [==============================] - 0s 32ms/step - loss: 0.4368 - accuracy: 0.8455 - val_loss: 0.4356 - val_accuracy: 0.8659 - lr: 0.0050\n",
      "Epoch 95/200\n",
      "3/3 [==============================] - 0s 33ms/step - loss: 0.4420 - accuracy: 0.8371 - val_loss: 0.4350 - val_accuracy: 0.8603 - lr: 0.0050\n",
      "Epoch 96/200\n",
      "3/3 [==============================] - 0s 29ms/step - loss: 0.4338 - accuracy: 0.8497 - val_loss: 0.4354 - val_accuracy: 0.8659 - lr: 0.0050\n",
      "Epoch 97/200\n",
      "3/3 [==============================] - 0s 29ms/step - loss: 0.4418 - accuracy: 0.8427 - val_loss: 0.4371 - val_accuracy: 0.8715 - lr: 0.0050\n",
      "Epoch 98/200\n",
      "3/3 [==============================] - 0s 27ms/step - loss: 0.4336 - accuracy: 0.8371 - val_loss: 0.4368 - val_accuracy: 0.8715 - lr: 0.0050\n",
      "Epoch 99/200\n",
      "3/3 [==============================] - 0s 28ms/step - loss: 0.4300 - accuracy: 0.8427 - val_loss: 0.4355 - val_accuracy: 0.8715 - lr: 0.0050\n",
      "Epoch 100/200\n",
      "3/3 [==============================] - 0s 25ms/step - loss: 0.4331 - accuracy: 0.8357 - val_loss: 0.4355 - val_accuracy: 0.8715 - lr: 0.0050\n",
      "Epoch 101/200\n",
      "3/3 [==============================] - 0s 26ms/step - loss: 0.4354 - accuracy: 0.8385 - val_loss: 0.4357 - val_accuracy: 0.8715 - lr: 0.0050\n",
      "Epoch 102/200\n",
      "3/3 [==============================] - 0s 25ms/step - loss: 0.4353 - accuracy: 0.8427 - val_loss: 0.4347 - val_accuracy: 0.8659 - lr: 0.0050\n",
      "Epoch 103/200\n",
      "3/3 [==============================] - 0s 29ms/step - loss: 0.4302 - accuracy: 0.8441 - val_loss: 0.4353 - val_accuracy: 0.8659 - lr: 0.0035\n",
      "Epoch 104/200\n",
      "3/3 [==============================] - 0s 28ms/step - loss: 0.4377 - accuracy: 0.8399 - val_loss: 0.4359 - val_accuracy: 0.8715 - lr: 0.0029\n",
      "Epoch 105/200\n",
      "3/3 [==============================] - 0s 29ms/step - loss: 0.4292 - accuracy: 0.8567 - val_loss: 0.4370 - val_accuracy: 0.8659 - lr: 0.0025\n",
      "Epoch 106/200\n",
      "3/3 [==============================] - 0s 41ms/step - loss: 0.4342 - accuracy: 0.8399 - val_loss: 0.4366 - val_accuracy: 0.8715 - lr: 0.0022\n",
      "Epoch 107/200\n",
      "3/3 [==============================] - 0s 27ms/step - loss: 0.4306 - accuracy: 0.8497 - val_loss: 0.4358 - val_accuracy: 0.8715 - lr: 0.0020\n",
      "Epoch 108/200\n",
      "3/3 [==============================] - 0s 27ms/step - loss: 0.4431 - accuracy: 0.8385 - val_loss: 0.4350 - val_accuracy: 0.8715 - lr: 0.0019\n",
      "Epoch 109/200\n",
      "3/3 [==============================] - 0s 31ms/step - loss: 0.4337 - accuracy: 0.8301 - val_loss: 0.4336 - val_accuracy: 0.8715 - lr: 0.0018\n",
      "Epoch 110/200\n",
      "3/3 [==============================] - 0s 29ms/step - loss: 0.4276 - accuracy: 0.8343 - val_loss: 0.4329 - val_accuracy: 0.8715 - lr: 0.0017\n",
      "Epoch 111/200\n",
      "3/3 [==============================] - 0s 28ms/step - loss: 0.4295 - accuracy: 0.8357 - val_loss: 0.4328 - val_accuracy: 0.8715 - lr: 0.0016\n",
      "Epoch 112/200\n",
      "3/3 [==============================] - 0s 29ms/step - loss: 0.4252 - accuracy: 0.8385 - val_loss: 0.4328 - val_accuracy: 0.8715 - lr: 0.0015\n",
      "Epoch 113/200\n",
      "3/3 [==============================] - 0s 29ms/step - loss: 0.4304 - accuracy: 0.8455 - val_loss: 0.4328 - val_accuracy: 0.8715 - lr: 0.0014\n",
      "Epoch 114/200\n",
      "3/3 [==============================] - 0s 40ms/step - loss: 0.4313 - accuracy: 0.8399 - val_loss: 0.4327 - val_accuracy: 0.8715 - lr: 0.0014\n",
      "Epoch 115/200\n",
      "3/3 [==============================] - 0s 34ms/step - loss: 0.4305 - accuracy: 0.8371 - val_loss: 0.4329 - val_accuracy: 0.8715 - lr: 0.0013\n",
      "Epoch 116/200\n",
      "3/3 [==============================] - 0s 38ms/step - loss: 0.4319 - accuracy: 0.8441 - val_loss: 0.4331 - val_accuracy: 0.8715 - lr: 0.0013\n",
      "Epoch 117/200\n",
      "3/3 [==============================] - 0s 34ms/step - loss: 0.4287 - accuracy: 0.8455 - val_loss: 0.4334 - val_accuracy: 0.8715 - lr: 0.0012\n",
      "Epoch 118/200\n",
      "3/3 [==============================] - 0s 30ms/step - loss: 0.4265 - accuracy: 0.8469 - val_loss: 0.4335 - val_accuracy: 0.8715 - lr: 0.0012\n",
      "Epoch 119/200\n",
      "3/3 [==============================] - 0s 29ms/step - loss: 0.4257 - accuracy: 0.8399 - val_loss: 0.4331 - val_accuracy: 0.8715 - lr: 0.0012\n",
      "Epoch 120/200\n",
      "3/3 [==============================] - 0s 28ms/step - loss: 0.4296 - accuracy: 0.8455 - val_loss: 0.4330 - val_accuracy: 0.8715 - lr: 0.0011\n",
      "Epoch 121/200\n",
      "3/3 [==============================] - 0s 35ms/step - loss: 0.4262 - accuracy: 0.8511 - val_loss: 0.4327 - val_accuracy: 0.8715 - lr: 0.0011\n",
      "Epoch 122/200\n",
      "3/3 [==============================] - 0s 28ms/step - loss: 0.4260 - accuracy: 0.8427 - val_loss: 0.4321 - val_accuracy: 0.8715 - lr: 0.0011\n",
      "Epoch 123/200\n",
      "3/3 [==============================] - 0s 28ms/step - loss: 0.4238 - accuracy: 0.8427 - val_loss: 0.4318 - val_accuracy: 0.8715 - lr: 0.0011\n",
      "Epoch 124/200\n",
      "3/3 [==============================] - 0s 31ms/step - loss: 0.4250 - accuracy: 0.8385 - val_loss: 0.4317 - val_accuracy: 0.8715 - lr: 0.0010\n",
      "Epoch 125/200\n",
      "3/3 [==============================] - 0s 28ms/step - loss: 0.4270 - accuracy: 0.8455 - val_loss: 0.4314 - val_accuracy: 0.8715 - lr: 0.0010\n",
      "Epoch 126/200\n",
      "3/3 [==============================] - 0s 31ms/step - loss: 0.4198 - accuracy: 0.8483 - val_loss: 0.4311 - val_accuracy: 0.8715 - lr: 0.0010\n",
      "Epoch 127/200\n",
      "3/3 [==============================] - 0s 29ms/step - loss: 0.4173 - accuracy: 0.8581 - val_loss: 0.4310 - val_accuracy: 0.8715 - lr: 9.8058e-04\n",
      "Epoch 128/200\n",
      "3/3 [==============================] - 0s 30ms/step - loss: 0.4283 - accuracy: 0.8329 - val_loss: 0.4307 - val_accuracy: 0.8715 - lr: 9.6225e-04\n",
      "Epoch 129/200\n",
      "3/3 [==============================] - 0s 29ms/step - loss: 0.4249 - accuracy: 0.8469 - val_loss: 0.4309 - val_accuracy: 0.8715 - lr: 9.4491e-04\n",
      "Epoch 130/200\n",
      "3/3 [==============================] - 0s 35ms/step - loss: 0.4223 - accuracy: 0.8413 - val_loss: 0.4310 - val_accuracy: 0.8715 - lr: 9.2848e-04\n",
      "Epoch 131/200\n",
      "3/3 [==============================] - 0s 29ms/step - loss: 0.4210 - accuracy: 0.8427 - val_loss: 0.4314 - val_accuracy: 0.8715 - lr: 9.1287e-04\n",
      "Epoch 132/200\n",
      "3/3 [==============================] - 0s 29ms/step - loss: 0.4252 - accuracy: 0.8301 - val_loss: 0.4316 - val_accuracy: 0.8715 - lr: 8.9803e-04\n",
      "Epoch 133/200\n",
      "3/3 [==============================] - 0s 27ms/step - loss: 0.4238 - accuracy: 0.8441 - val_loss: 0.4320 - val_accuracy: 0.8715 - lr: 8.8388e-04\n",
      "Epoch 134/200\n",
      "3/3 [==============================] - 0s 30ms/step - loss: 0.4230 - accuracy: 0.8399 - val_loss: 0.4322 - val_accuracy: 0.8715 - lr: 8.7039e-04\n",
      "Epoch 135/200\n",
      "3/3 [==============================] - 0s 36ms/step - loss: 0.4297 - accuracy: 0.8455 - val_loss: 0.4320 - val_accuracy: 0.8715 - lr: 8.5749e-04\n",
      "Epoch 136/200\n",
      "3/3 [==============================] - 0s 33ms/step - loss: 0.4231 - accuracy: 0.8441 - val_loss: 0.4320 - val_accuracy: 0.8715 - lr: 8.4515e-04\n",
      "Epoch 137/200\n",
      "3/3 [==============================] - 0s 30ms/step - loss: 0.4238 - accuracy: 0.8441 - val_loss: 0.4319 - val_accuracy: 0.8715 - lr: 8.3333e-04\n",
      "Epoch 138/200\n",
      "3/3 [==============================] - 0s 35ms/step - loss: 0.4216 - accuracy: 0.8483 - val_loss: 0.4317 - val_accuracy: 0.8715 - lr: 8.2199e-04\n",
      "Epoch 139/200\n",
      "3/3 [==============================] - 0s 27ms/step - loss: 0.4234 - accuracy: 0.8385 - val_loss: 0.4317 - val_accuracy: 0.8715 - lr: 8.1111e-04\n",
      "Epoch 140/200\n",
      "3/3 [==============================] - 0s 31ms/step - loss: 0.4264 - accuracy: 0.8413 - val_loss: 0.4316 - val_accuracy: 0.8715 - lr: 8.0064e-04\n",
      "Epoch 141/200\n",
      "3/3 [==============================] - 0s 38ms/step - loss: 0.4255 - accuracy: 0.8427 - val_loss: 0.4313 - val_accuracy: 0.8715 - lr: 7.9057e-04\n",
      "Epoch 142/200\n",
      "3/3 [==============================] - 0s 63ms/step - loss: 0.4205 - accuracy: 0.8455 - val_loss: 0.4311 - val_accuracy: 0.8715 - lr: 7.8087e-04\n",
      "Epoch 143/200\n",
      "3/3 [==============================] - 0s 77ms/step - loss: 0.4176 - accuracy: 0.8497 - val_loss: 0.4307 - val_accuracy: 0.8715 - lr: 7.7152e-04\n",
      "Epoch 144/200\n",
      "3/3 [==============================] - 0s 57ms/step - loss: 0.4292 - accuracy: 0.8357 - val_loss: 0.4307 - val_accuracy: 0.8715 - lr: 7.6249e-04\n",
      "Epoch 145/200\n",
      "3/3 [==============================] - 0s 29ms/step - loss: 0.4136 - accuracy: 0.8483 - val_loss: 0.4307 - val_accuracy: 0.8715 - lr: 7.5378e-04\n",
      "Epoch 146/200\n",
      "3/3 [==============================] - 0s 42ms/step - loss: 0.4219 - accuracy: 0.8385 - val_loss: 0.4305 - val_accuracy: 0.8715 - lr: 7.4536e-04\n",
      "Epoch 147/200\n",
      "3/3 [==============================] - 0s 31ms/step - loss: 0.4169 - accuracy: 0.8427 - val_loss: 0.4303 - val_accuracy: 0.8715 - lr: 7.3721e-04\n",
      "Epoch 148/200\n",
      "3/3 [==============================] - 0s 32ms/step - loss: 0.4302 - accuracy: 0.8483 - val_loss: 0.4304 - val_accuracy: 0.8715 - lr: 7.2932e-04\n",
      "Epoch 149/200\n",
      "3/3 [==============================] - 0s 28ms/step - loss: 0.4275 - accuracy: 0.8441 - val_loss: 0.4306 - val_accuracy: 0.8715 - lr: 7.2169e-04\n",
      "Epoch 150/200\n",
      "3/3 [==============================] - 0s 27ms/step - loss: 0.4242 - accuracy: 0.8483 - val_loss: 0.4307 - val_accuracy: 0.8715 - lr: 7.1429e-04\n",
      "Epoch 151/200\n",
      "3/3 [==============================] - 0s 27ms/step - loss: 0.4229 - accuracy: 0.8427 - val_loss: 0.4309 - val_accuracy: 0.8715 - lr: 7.0711e-04\n",
      "Epoch 152/200\n",
      "3/3 [==============================] - 0s 31ms/step - loss: 0.4179 - accuracy: 0.8610 - val_loss: 0.4310 - val_accuracy: 0.8715 - lr: 7.0014e-04\n",
      "Epoch 153/200\n",
      "3/3 [==============================] - 0s 31ms/step - loss: 0.4231 - accuracy: 0.8497 - val_loss: 0.4310 - val_accuracy: 0.8715 - lr: 6.9338e-04\n",
      "Epoch 154/200\n",
      "3/3 [==============================] - 0s 32ms/step - loss: 0.4226 - accuracy: 0.8455 - val_loss: 0.4310 - val_accuracy: 0.8715 - lr: 6.8680e-04\n",
      "Epoch 155/200\n",
      "3/3 [==============================] - 0s 28ms/step - loss: 0.4279 - accuracy: 0.8385 - val_loss: 0.4310 - val_accuracy: 0.8715 - lr: 6.8041e-04\n",
      "Epoch 156/200\n",
      "3/3 [==============================] - 0s 26ms/step - loss: 0.4195 - accuracy: 0.8413 - val_loss: 0.4311 - val_accuracy: 0.8715 - lr: 6.7420e-04\n",
      "Epoch 157/200\n",
      "3/3 [==============================] - 0s 28ms/step - loss: 0.4237 - accuracy: 0.8413 - val_loss: 0.4312 - val_accuracy: 0.8715 - lr: 6.6815e-04\n",
      "Epoch 158/200\n",
      "3/3 [==============================] - 0s 31ms/step - loss: 0.4211 - accuracy: 0.8525 - val_loss: 0.4311 - val_accuracy: 0.8715 - lr: 6.6227e-04\n",
      "Epoch 159/200\n",
      "3/3 [==============================] - 0s 29ms/step - loss: 0.4230 - accuracy: 0.8483 - val_loss: 0.4309 - val_accuracy: 0.8715 - lr: 6.5653e-04\n",
      "Epoch 160/200\n",
      "3/3 [==============================] - 0s 44ms/step - loss: 0.4178 - accuracy: 0.8427 - val_loss: 0.4307 - val_accuracy: 0.8715 - lr: 6.5094e-04\n",
      "Epoch 161/200\n",
      "3/3 [==============================] - 0s 43ms/step - loss: 0.4154 - accuracy: 0.8511 - val_loss: 0.4304 - val_accuracy: 0.8715 - lr: 6.4550e-04\n",
      "Epoch 162/200\n",
      "3/3 [==============================] - 0s 36ms/step - loss: 0.4280 - accuracy: 0.8483 - val_loss: 0.4300 - val_accuracy: 0.8715 - lr: 6.4018e-04\n",
      "Epoch 163/200\n",
      "3/3 [==============================] - 0s 34ms/step - loss: 0.4213 - accuracy: 0.8483 - val_loss: 0.4298 - val_accuracy: 0.8715 - lr: 6.3500e-04\n",
      "Epoch 164/200\n",
      "3/3 [==============================] - 0s 29ms/step - loss: 0.4247 - accuracy: 0.8371 - val_loss: 0.4297 - val_accuracy: 0.8715 - lr: 6.2994e-04\n",
      "Epoch 165/200\n",
      "3/3 [==============================] - 0s 34ms/step - loss: 0.4152 - accuracy: 0.8441 - val_loss: 0.4298 - val_accuracy: 0.8715 - lr: 6.2500e-04\n",
      "Epoch 166/200\n",
      "3/3 [==============================] - 0s 75ms/step - loss: 0.4233 - accuracy: 0.8371 - val_loss: 0.4298 - val_accuracy: 0.8715 - lr: 6.2017e-04\n",
      "Epoch 167/200\n",
      "3/3 [==============================] - 0s 117ms/step - loss: 0.4170 - accuracy: 0.8497 - val_loss: 0.4299 - val_accuracy: 0.8715 - lr: 6.1546e-04\n",
      "Epoch 168/200\n",
      "3/3 [==============================] - 0s 31ms/step - loss: 0.4162 - accuracy: 0.8469 - val_loss: 0.4301 - val_accuracy: 0.8715 - lr: 6.1085e-04\n",
      "Epoch 169/200\n",
      "3/3 [==============================] - 0s 30ms/step - loss: 0.4225 - accuracy: 0.8357 - val_loss: 0.4303 - val_accuracy: 0.8715 - lr: 6.0634e-04\n",
      "Epoch 170/200\n",
      "3/3 [==============================] - 0s 37ms/step - loss: 0.4234 - accuracy: 0.8469 - val_loss: 0.4304 - val_accuracy: 0.8715 - lr: 6.0193e-04\n",
      "Epoch 171/200\n",
      "3/3 [==============================] - 0s 27ms/step - loss: 0.4197 - accuracy: 0.8483 - val_loss: 0.4306 - val_accuracy: 0.8715 - lr: 5.9761e-04\n",
      "Epoch 172/200\n",
      "3/3 [==============================] - 0s 27ms/step - loss: 0.4182 - accuracy: 0.8427 - val_loss: 0.4308 - val_accuracy: 0.8715 - lr: 5.9339e-04\n",
      "Epoch 173/200\n",
      "3/3 [==============================] - 0s 33ms/step - loss: 0.4292 - accuracy: 0.8343 - val_loss: 0.4310 - val_accuracy: 0.8715 - lr: 5.8926e-04\n",
      "Epoch 174/200\n",
      "3/3 [==============================] - 0s 34ms/step - loss: 0.4173 - accuracy: 0.8455 - val_loss: 0.4311 - val_accuracy: 0.8715 - lr: 5.8521e-04\n",
      "Epoch 175/200\n",
      "3/3 [==============================] - 0s 29ms/step - loss: 0.4299 - accuracy: 0.8399 - val_loss: 0.4312 - val_accuracy: 0.8715 - lr: 5.8124e-04\n",
      "Epoch 176/200\n",
      "3/3 [==============================] - 0s 24ms/step - loss: 0.4227 - accuracy: 0.8315 - val_loss: 0.4312 - val_accuracy: 0.8715 - lr: 5.7735e-04\n",
      "Epoch 177/200\n",
      "3/3 [==============================] - 0s 30ms/step - loss: 0.4239 - accuracy: 0.8441 - val_loss: 0.4313 - val_accuracy: 0.8715 - lr: 5.7354e-04\n",
      "Epoch 178/200\n",
      "3/3 [==============================] - 0s 28ms/step - loss: 0.4205 - accuracy: 0.8511 - val_loss: 0.4315 - val_accuracy: 0.8715 - lr: 5.6980e-04\n",
      "Epoch 179/200\n",
      "3/3 [==============================] - 0s 34ms/step - loss: 0.4236 - accuracy: 0.8399 - val_loss: 0.4315 - val_accuracy: 0.8715 - lr: 5.6614e-04\n",
      "Epoch 180/200\n",
      "3/3 [==============================] - 0s 38ms/step - loss: 0.4163 - accuracy: 0.8357 - val_loss: 0.4314 - val_accuracy: 0.8715 - lr: 5.6254e-04\n",
      "Epoch 181/200\n",
      "3/3 [==============================] - 0s 26ms/step - loss: 0.4149 - accuracy: 0.8511 - val_loss: 0.4311 - val_accuracy: 0.8715 - lr: 5.5902e-04\n",
      "Epoch 182/200\n",
      "3/3 [==============================] - 0s 28ms/step - loss: 0.4201 - accuracy: 0.8413 - val_loss: 0.4309 - val_accuracy: 0.8715 - lr: 5.5556e-04\n",
      "Epoch 183/200\n",
      "3/3 [==============================] - 0s 43ms/step - loss: 0.4213 - accuracy: 0.8469 - val_loss: 0.4308 - val_accuracy: 0.8715 - lr: 5.5216e-04\n",
      "Epoch 184/200\n",
      "3/3 [==============================] - 0s 30ms/step - loss: 0.4204 - accuracy: 0.8371 - val_loss: 0.4305 - val_accuracy: 0.8715 - lr: 5.4882e-04\n",
      "Epoch 185/200\n",
      "3/3 [==============================] - 0s 30ms/step - loss: 0.4178 - accuracy: 0.8539 - val_loss: 0.4303 - val_accuracy: 0.8715 - lr: 5.4554e-04\n",
      "Epoch 186/200\n",
      "3/3 [==============================] - 0s 36ms/step - loss: 0.4207 - accuracy: 0.8399 - val_loss: 0.4302 - val_accuracy: 0.8715 - lr: 5.4233e-04\n",
      "Epoch 187/200\n",
      "3/3 [==============================] - 0s 32ms/step - loss: 0.4220 - accuracy: 0.8497 - val_loss: 0.4302 - val_accuracy: 0.8715 - lr: 5.3916e-04\n",
      "Epoch 188/200\n",
      "3/3 [==============================] - 0s 30ms/step - loss: 0.4289 - accuracy: 0.8427 - val_loss: 0.4302 - val_accuracy: 0.8715 - lr: 5.3606e-04\n",
      "Epoch 189/200\n",
      "3/3 [==============================] - 0s 49ms/step - loss: 0.4187 - accuracy: 0.8413 - val_loss: 0.4302 - val_accuracy: 0.8715 - lr: 5.3300e-04\n",
      "Epoch 190/200\n",
      "3/3 [==============================] - 0s 70ms/step - loss: 0.4252 - accuracy: 0.8441 - val_loss: 0.4301 - val_accuracy: 0.8715 - lr: 5.3000e-04\n",
      "Epoch 191/200\n",
      "3/3 [==============================] - 0s 69ms/step - loss: 0.4263 - accuracy: 0.8385 - val_loss: 0.4301 - val_accuracy: 0.8715 - lr: 5.2705e-04\n",
      "Epoch 192/200\n",
      "3/3 [==============================] - 0s 42ms/step - loss: 0.4229 - accuracy: 0.8483 - val_loss: 0.4301 - val_accuracy: 0.8715 - lr: 5.2414e-04\n",
      "Epoch 193/200\n",
      "3/3 [==============================] - 0s 39ms/step - loss: 0.4258 - accuracy: 0.8385 - val_loss: 0.4301 - val_accuracy: 0.8715 - lr: 5.2129e-04\n",
      "Epoch 194/200\n",
      "3/3 [==============================] - 0s 28ms/step - loss: 0.4292 - accuracy: 0.8357 - val_loss: 0.4301 - val_accuracy: 0.8715 - lr: 5.1848e-04\n",
      "Epoch 195/200\n",
      "3/3 [==============================] - 0s 26ms/step - loss: 0.4236 - accuracy: 0.8371 - val_loss: 0.4303 - val_accuracy: 0.8715 - lr: 5.1571e-04\n",
      "Epoch 196/200\n",
      "3/3 [==============================] - 0s 28ms/step - loss: 0.4307 - accuracy: 0.8455 - val_loss: 0.4303 - val_accuracy: 0.8715 - lr: 5.1299e-04\n",
      "Epoch 197/200\n",
      "3/3 [==============================] - 0s 27ms/step - loss: 0.4184 - accuracy: 0.8511 - val_loss: 0.4303 - val_accuracy: 0.8715 - lr: 5.1031e-04\n",
      "Epoch 198/200\n",
      "3/3 [==============================] - 0s 27ms/step - loss: 0.4239 - accuracy: 0.8427 - val_loss: 0.4303 - val_accuracy: 0.8715 - lr: 5.0767e-04\n",
      "Epoch 199/200\n",
      "3/3 [==============================] - 0s 30ms/step - loss: 0.4305 - accuracy: 0.8343 - val_loss: 0.4303 - val_accuracy: 0.8715 - lr: 5.0508e-04\n",
      "Epoch 200/200\n",
      "3/3 [==============================] - 0s 41ms/step - loss: 0.4261 - accuracy: 0.8371 - val_loss: 0.4303 - val_accuracy: 0.8715 - lr: 5.0252e-04\n"
     ]
    }
   ],
   "source": [
    "# early_stop = keras.callbacks.EarlyStopping(monitor='val_loss', patience=100)\n",
    "def scheduler(epoch):\n",
    "  if epoch <= 100:\n",
    "    return learning_rate\n",
    "  else:\n",
    "    return learning_rate / math.sqrt(epoch - 100)\n",
    "callback = keras.callbacks.LearningRateScheduler(scheduler)\n",
    "\n",
    "# in order to achieve the accuracy of 82%, this was run 4 times, totalling 400 epochs.\n",
    "# The only things that changed was the batch size, which was respectivelly: 64, 64, 128, 209\n",
    "results = model.fit(\n",
    "  X_train,\n",
    "  y_train,\n",
    "  epochs=200,\n",
    "  batch_size=256,\n",
    "  validation_data=(X_cv, y_cv),\n",
    "  verbose = 1,\n",
    "  callbacks=[callback]\n",
    ")\n"
   ]
  },
  {
   "attachments": {},
   "cell_type": "markdown",
   "metadata": {},
   "source": [
    "# 4) Model evaluation"
   ]
  },
  {
   "cell_type": "code",
   "execution_count": 32,
   "metadata": {},
   "outputs": [
    {
     "data": {
      "image/png": "[encoded data removed]",
      "text/plain": [
       "<Figure size 432x288 with 1 Axes>"
      ]
     },
     "metadata": {
      "needs_background": "light"
     },
     "output_type": "display_data"
    },
    {
     "data": {
      "image/png": "[encoded data removed]",
      "text/plain": [
       "<Figure size 432x288 with 1 Axes>"
      ]
     },
     "metadata": {
      "needs_background": "light"
     },
     "output_type": "display_data"
    },
    {
     "name": "stdout",
     "output_type": "stream",
     "text": [
      "6/6 [==============================] - 0s 2ms/step\n"
     ]
    },
    {
     "data": {
      "text/plain": [
       "<sklearn.metrics._plot.confusion_matrix.ConfusionMatrixDisplay at 0x7f4edc4cd840>"
      ]
     },
     "execution_count": 32,
     "metadata": {},
     "output_type": "execute_result"
    },
    {
     "data": {
      "image/png": "[encoded data removed]",
      "text/plain": [
       "<Figure size 432x288 with 2 Axes>"
      ]
     },
     "metadata": {
      "needs_background": "light"
     },
     "output_type": "display_data"
    }
   ],
   "source": [
    "acc = results.history['accuracy']\n",
    "val_acc = results.history['val_accuracy']\n",
    "loss = results.history['loss']\n",
    "val_loss = results.history['val_loss']\n",
    "epochs = range(1, len(acc) + 1)\n",
    "\n",
    "plt.plot(epochs, acc, 'b', label= 'Training accuracy')\n",
    "plt.plot(epochs, val_acc, 'r', label= 'Validation accuracy')\n",
    "plt.title('Training and Validation accuracy')\n",
    "plt.legend()\n",
    "\n",
    "plt.figure()\n",
    "plt.plot(epochs, loss, 'b', label= 'Training loss')\n",
    "plt.plot(epochs, val_loss, 'r', label= 'Validation loss')\n",
    "plt.title('Training and Validation loss')\n",
    "plt.legend()\n",
    "\n",
    "plt.show()\n",
    "\n",
    "# one-hot-encoding y set\n",
    "y_cv_prediction = model.predict(X_cv)\n",
    "y_cv_prediction_rounded = [round(x) for arr in y_cv_prediction for x in arr]\n",
    "# plot confusion matrix\n",
    "ConfusionMatrixDisplay.from_predictions(y_cv, y_cv_prediction_rounded)\n"
   ]
  },
  {
   "attachments": {},
   "cell_type": "markdown",
   "metadata": {},
   "source": [
    "Create .csv file with predictions"
   ]
  },
  {
   "cell_type": "code",
   "execution_count": 33,
   "metadata": {},
   "outputs": [
    {
     "name": "stdout",
     "output_type": "stream",
     "text": [
      "14/14 [==============================] - 0s 2ms/step\n"
     ]
    }
   ],
   "source": [
    "y_test_prediction = model.predict(X_test)\n",
    "y_test_prediction_rounded = pd.Series([round(x) for arr in y_test_prediction for x in arr], name='Survived')\n",
    "\n",
    "test_ids = pd.Series(raw_test_data.iloc[:, 0]) # get only the ids from the test dataset\n",
    "result=pd.concat([test_ids, y_test_prediction_rounded],axis=1)\n",
    "result.to_csv('./solutions/kaggle_titanic.csv',index=False)\n"
   ]
  }
 ],
 "metadata": {
  "kernelspec": {
   "display_name": "Python 3",
   "language": "python",
   "name": "python3"
  },
  "language_info": {
   "codemirror_mode": {
    "name": "ipython",
    "version": 3
   },
   "file_extension": ".py",
   "mimetype": "text/x-python",
   "name": "python",
   "nbconvert_exporter": "python",
   "pygments_lexer": "ipython3",
   "version": "3.10.6"
  },
  "orig_nbformat": 4
 },
 "nbformat": 4,
 "nbformat_minor": 2
}
